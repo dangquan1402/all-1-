{
 "cells": [
  {
   "cell_type": "code",
   "execution_count": 1,
   "metadata": {},
   "outputs": [],
   "source": [
    "# NAME: DANG VIET QUAN\n",
    "# TITLE: DECISION TREE\n",
    "# CLASS: ICT-2018"
   ]
  },
  {
   "cell_type": "code",
   "execution_count": 2,
   "metadata": {},
   "outputs": [],
   "source": [
    "import numpy as np\n",
    "import pandas as pd"
   ]
  },
  {
   "cell_type": "code",
   "execution_count": 3,
   "metadata": {},
   "outputs": [],
   "source": [
    "train =  pd.read_csv(\"train.csv\")\n",
    "test =  pd.read_csv(\"test.csv\")\n",
    "submission =  pd.read_csv('gender_submission.csv')"
   ]
  },
  {
   "cell_type": "markdown",
   "metadata": {},
   "source": [
    "# Instruction:\n"
   ]
  },
  {
   "cell_type": "markdown",
   "metadata": {},
   "source": [
    "## Attribute available in the dataset"
   ]
  },
  {
   "cell_type": "code",
   "execution_count": 4,
   "metadata": {},
   "outputs": [
    {
     "name": "stdout",
     "output_type": "stream",
     "text": [
      "['PassengerId' 'Survived' 'Pclass' 'Name' 'Sex' 'Age' 'SibSp' 'Parch'\n",
      " 'Ticket' 'Fare' 'Cabin' 'Embarked']\n"
     ]
    }
   ],
   "source": [
    "print(train.columns.values)"
   ]
  },
  {
   "cell_type": "markdown",
   "metadata": {},
   "source": [
    "### Catogorical attributes\n",
    "Categorical: Survived, Name, Sex, Embarked. Ordinal: Pclass"
   ]
  },
  {
   "cell_type": "markdown",
   "metadata": {},
   "source": [
    "### Numerical attributes\n",
    "Continuous: Age, Fare. Discrete:SibSp, Parch"
   ]
  },
  {
   "cell_type": "markdown",
   "metadata": {},
   "source": [
    "### Mixed attributes\n",
    "Ticket is a mix of numeric and alphanumeric data types. Cabin is alphanumeric"
   ]
  },
  {
   "cell_type": "code",
   "execution_count": 5,
   "metadata": {},
   "outputs": [
    {
     "data": {
      "text/html": [
       "<div>\n",
       "<style scoped>\n",
       "    .dataframe tbody tr th:only-of-type {\n",
       "        vertical-align: middle;\n",
       "    }\n",
       "\n",
       "    .dataframe tbody tr th {\n",
       "        vertical-align: top;\n",
       "    }\n",
       "\n",
       "    .dataframe thead th {\n",
       "        text-align: right;\n",
       "    }\n",
       "</style>\n",
       "<table border=\"1\" class=\"dataframe\">\n",
       "  <thead>\n",
       "    <tr style=\"text-align: right;\">\n",
       "      <th></th>\n",
       "      <th>PassengerId</th>\n",
       "      <th>Survived</th>\n",
       "      <th>Pclass</th>\n",
       "      <th>Name</th>\n",
       "      <th>Sex</th>\n",
       "      <th>Age</th>\n",
       "      <th>SibSp</th>\n",
       "      <th>Parch</th>\n",
       "      <th>Ticket</th>\n",
       "      <th>Fare</th>\n",
       "      <th>Cabin</th>\n",
       "      <th>Embarked</th>\n",
       "    </tr>\n",
       "  </thead>\n",
       "  <tbody>\n",
       "    <tr>\n",
       "      <th>0</th>\n",
       "      <td>1</td>\n",
       "      <td>0</td>\n",
       "      <td>3</td>\n",
       "      <td>Braund, Mr. Owen Harris</td>\n",
       "      <td>male</td>\n",
       "      <td>22.0</td>\n",
       "      <td>1</td>\n",
       "      <td>0</td>\n",
       "      <td>A/5 21171</td>\n",
       "      <td>7.2500</td>\n",
       "      <td>NaN</td>\n",
       "      <td>S</td>\n",
       "    </tr>\n",
       "    <tr>\n",
       "      <th>1</th>\n",
       "      <td>2</td>\n",
       "      <td>1</td>\n",
       "      <td>1</td>\n",
       "      <td>Cumings, Mrs. John Bradley (Florence Briggs Th...</td>\n",
       "      <td>female</td>\n",
       "      <td>38.0</td>\n",
       "      <td>1</td>\n",
       "      <td>0</td>\n",
       "      <td>PC 17599</td>\n",
       "      <td>71.2833</td>\n",
       "      <td>C85</td>\n",
       "      <td>C</td>\n",
       "    </tr>\n",
       "    <tr>\n",
       "      <th>2</th>\n",
       "      <td>3</td>\n",
       "      <td>1</td>\n",
       "      <td>3</td>\n",
       "      <td>Heikkinen, Miss. Laina</td>\n",
       "      <td>female</td>\n",
       "      <td>26.0</td>\n",
       "      <td>0</td>\n",
       "      <td>0</td>\n",
       "      <td>STON/O2. 3101282</td>\n",
       "      <td>7.9250</td>\n",
       "      <td>NaN</td>\n",
       "      <td>S</td>\n",
       "    </tr>\n",
       "    <tr>\n",
       "      <th>3</th>\n",
       "      <td>4</td>\n",
       "      <td>1</td>\n",
       "      <td>1</td>\n",
       "      <td>Futrelle, Mrs. Jacques Heath (Lily May Peel)</td>\n",
       "      <td>female</td>\n",
       "      <td>35.0</td>\n",
       "      <td>1</td>\n",
       "      <td>0</td>\n",
       "      <td>113803</td>\n",
       "      <td>53.1000</td>\n",
       "      <td>C123</td>\n",
       "      <td>S</td>\n",
       "    </tr>\n",
       "    <tr>\n",
       "      <th>4</th>\n",
       "      <td>5</td>\n",
       "      <td>0</td>\n",
       "      <td>3</td>\n",
       "      <td>Allen, Mr. William Henry</td>\n",
       "      <td>male</td>\n",
       "      <td>35.0</td>\n",
       "      <td>0</td>\n",
       "      <td>0</td>\n",
       "      <td>373450</td>\n",
       "      <td>8.0500</td>\n",
       "      <td>NaN</td>\n",
       "      <td>S</td>\n",
       "    </tr>\n",
       "  </tbody>\n",
       "</table>\n",
       "</div>"
      ],
      "text/plain": [
       "   PassengerId  Survived  Pclass  \\\n",
       "0            1         0       3   \n",
       "1            2         1       1   \n",
       "2            3         1       3   \n",
       "3            4         1       1   \n",
       "4            5         0       3   \n",
       "\n",
       "                                                Name     Sex   Age  SibSp  \\\n",
       "0                            Braund, Mr. Owen Harris    male  22.0      1   \n",
       "1  Cumings, Mrs. John Bradley (Florence Briggs Th...  female  38.0      1   \n",
       "2                             Heikkinen, Miss. Laina  female  26.0      0   \n",
       "3       Futrelle, Mrs. Jacques Heath (Lily May Peel)  female  35.0      1   \n",
       "4                           Allen, Mr. William Henry    male  35.0      0   \n",
       "\n",
       "   Parch            Ticket     Fare Cabin Embarked  \n",
       "0      0         A/5 21171   7.2500   NaN        S  \n",
       "1      0          PC 17599  71.2833   C85        C  \n",
       "2      0  STON/O2. 3101282   7.9250   NaN        S  \n",
       "3      0            113803  53.1000  C123        S  \n",
       "4      0            373450   8.0500   NaN        S  "
      ]
     },
     "execution_count": 5,
     "metadata": {},
     "output_type": "execute_result"
    }
   ],
   "source": [
    "# preview the data\n",
    "train.head(5)"
   ]
  },
  {
   "cell_type": "markdown",
   "metadata": {},
   "source": [
    "### Attributes contain errors \n",
    "Name feature may contain errors as there are several ways used to describe a name including titles, round brackets and quotes used for alternative or short names"
   ]
  },
  {
   "cell_type": "markdown",
   "metadata": {},
   "source": [
    "### Attributes data types:\n",
    "- Seven attributes are numeric. Six in case of test data set\n",
    "- Five atrributes are strings (object)"
   ]
  },
  {
   "cell_type": "markdown",
   "metadata": {},
   "source": [
    "### Attributes contain missing values\n",
    "- In trainning dataset: Age, Cabin, Embarked\n",
    "- In test dataset: Age, Fair, Cabin"
   ]
  },
  {
   "cell_type": "code",
   "execution_count": 6,
   "metadata": {},
   "outputs": [
    {
     "name": "stdout",
     "output_type": "stream",
     "text": [
      "<class 'pandas.core.frame.DataFrame'>\n",
      "RangeIndex: 891 entries, 0 to 890\n",
      "Data columns (total 12 columns):\n",
      "PassengerId    891 non-null int64\n",
      "Survived       891 non-null int64\n",
      "Pclass         891 non-null int64\n",
      "Name           891 non-null object\n",
      "Sex            891 non-null object\n",
      "Age            714 non-null float64\n",
      "SibSp          891 non-null int64\n",
      "Parch          891 non-null int64\n",
      "Ticket         891 non-null object\n",
      "Fare           891 non-null float64\n",
      "Cabin          204 non-null object\n",
      "Embarked       889 non-null object\n",
      "dtypes: float64(2), int64(5), object(5)\n",
      "memory usage: 83.6+ KB\n",
      "________________________________________\n",
      "<class 'pandas.core.frame.DataFrame'>\n",
      "RangeIndex: 418 entries, 0 to 417\n",
      "Data columns (total 11 columns):\n",
      "PassengerId    418 non-null int64\n",
      "Pclass         418 non-null int64\n",
      "Name           418 non-null object\n",
      "Sex            418 non-null object\n",
      "Age            332 non-null float64\n",
      "SibSp          418 non-null int64\n",
      "Parch          418 non-null int64\n",
      "Ticket         418 non-null object\n",
      "Fare           417 non-null float64\n",
      "Cabin          91 non-null object\n",
      "Embarked       418 non-null object\n",
      "dtypes: float64(2), int64(4), object(5)\n",
      "memory usage: 36.0+ KB\n"
     ]
    }
   ],
   "source": [
    "train.info()\n",
    "print('_'*40)\n",
    "test.info()"
   ]
  },
  {
   "cell_type": "markdown",
   "metadata": {},
   "source": [
    "## 1 Correcting:\n",
    "\n",
    "- Ticket attribute may be dropped from our analysis because there may not be a correlation between Ticket and survival.\n",
    "- Cabin feature may be dropped as it is highly incomplete.\n",
    "- PassengerId may be dropped from training dataset as it does not contribute to survival.\n",
    "- Name may be dropped from our analysis because it is likely non-standard.\n"
   ]
  },
  {
   "cell_type": "markdown",
   "metadata": {},
   "source": [
    "## 2 Completing\n",
    "- We may want to complete Age feature as it is definitely correlated to survival by using mean value\n",
    "- We may want to complete the Embarked feature by using mode value"
   ]
  },
  {
   "cell_type": "markdown",
   "metadata": {},
   "source": [
    "## 3 Creating\n",
    "- We may want to create a new feature called Num_mems based on Parch and SibSp to get total count of family members on board.\n"
   ]
  },
  {
   "cell_type": "markdown",
   "metadata": {},
   "source": [
    "## 4 Transformation:\n",
    "- We may transform Age and Fare into range"
   ]
  },
  {
   "cell_type": "code",
   "execution_count": 7,
   "metadata": {},
   "outputs": [],
   "source": [
    "combine = [train, test]\n",
    "for df in combine:\n",
    "    df.drop(['PassengerId', 'Name', 'Cabin', 'Ticket'], axis = 1, inplace = True) # drop columns in correcting\n",
    "    df['Age'].fillna(df['Age'].mean(), inplace= True) # completing data from (2)\n",
    "    df['Fare'].fillna(df['Fare'].mean(), inplace= True) # completing data form (2)\n",
    "    df['Embarked'].fillna(df['Embarked'].mode()[0], inplace = True)\n",
    "    df['num_mems'] = df['SibSp']+ df['Parch'] + 1 # create new column from (3)\n",
    "    df.drop(['SibSp', 'Parch'], axis = 1, inplace = True) \n",
    "    df['Age']= pd.cut(df['Age'], bins = 10 , labels=np.arange(1,11),  right=False).astype('int') # split Age into 10 inteval and assign number\n",
    "    df['Fare'] = pd.cut(df['Fare'], bins = 10, labels = np.arange(1,11), right = False).astype('int') # split Fare into 10 inteval and assign number\n",
    "    df[\"Sex\"] = pd.Categorical(df['Sex'], df['Sex'].unique()) # convert column Sex into catogory type\n",
    "    df['Sex']  = df['Sex'].cat.rename_categories(np.arange(len(df['Sex'].unique()))) # convert into number\n",
    "    df['Embarked'] = pd.Categorical(df['Embarked'], df['Embarked'].unique())\n",
    "    df['Embarked'] = df['Embarked'].cat.rename_categories(np.arange(len(df['Embarked'].unique())))"
   ]
  },
  {
   "cell_type": "code",
   "execution_count": 8,
   "metadata": {},
   "outputs": [],
   "source": [
    "class Question:\n",
    "    \"\"\" Question includes name of column \n",
    "    \"\"\"\n",
    "    def __init__(self, column):\n",
    "        self.column = column\n",
    "class Leaf:\n",
    "    \"\"\" Leaf includes label\n",
    "    \"\"\"\n",
    "    def __init__(self, label):\n",
    "        self.label = label\n",
    "class Node:\n",
    "    \"\"\" Node includes question, list of branches and label in current node\n",
    "    \"\"\"\n",
    "    def __init__(self, question, list_branches, label):\n",
    "        self.question = question\n",
    "        self.list_branches = list_branches\n",
    "        self.label = label\n",
    "\n",
    "def partition(rows, question):\n",
    "    \"\"\" \n",
    "    input: \n",
    "    rows is a dataframe and a question\n",
    "    \n",
    "    output:\n",
    "    list of dataframes\n",
    "    \"\"\"\n",
    "    L = {}\n",
    "    unique = rows.iloc[:, question.column].unique().tolist()\n",
    "    for value in unique:\n",
    "        mask = rows.iloc[:, question.column] == value\n",
    "        L[value] = rows[mask]\n",
    "    return L"
   ]
  },
  {
   "cell_type": "code",
   "execution_count": 9,
   "metadata": {},
   "outputs": [],
   "source": [
    "import math\n",
    "def Entropy(rows):\n",
    "    \"\"\"\n",
    "    Calculate entropy of current node\n",
    "    \"\"\"\n",
    "    L = rows.iloc[:,0].value_counts()\n",
    "    entro_value = 0\n",
    "    S = rows.iloc[:,0].value_counts().sum()\n",
    "    S =  float(S)\n",
    "    for i in L.index:\n",
    "        if L[i] == 0: \n",
    "            return 0\n",
    "        entro_value -= L[i]/S * math.log(L[i]/S, 2)\n",
    "    return entro_value      "
   ]
  },
  {
   "cell_type": "code",
   "execution_count": 10,
   "metadata": {},
   "outputs": [],
   "source": [
    "def Gini(rows):\n",
    "    \"\"\"\n",
    "    Calculate gini value of current node\n",
    "    \"\"\"\n",
    "    L = rows.iloc[:,0].value_counts()\n",
    "    gini_value = 0\n",
    "    S = rows.iloc[:,0].value_counts().sum()\n",
    "    S =  float(S)\n",
    "    for i in L.index:\n",
    "        if L[i] == 0: \n",
    "            return 0\n",
    "        gini_value += (L[i]/S)**2\n",
    "    return (1 - gini_value)"
   ]
  },
  {
   "cell_type": "code",
   "execution_count": 11,
   "metadata": {},
   "outputs": [],
   "source": [
    "def Info_gain(rows, question, method):\n",
    "    \"\"\"\n",
    "    Calculate information gain under individual question in current node\n",
    "    \"\"\"\n",
    "    current = method(rows)\n",
    "    L =  partition(rows, question)\n",
    "    Tot = 0\n",
    "    for child in L.values():\n",
    "        Tot += len(child)/len(rows)*method(child)\n",
    "    return current - Tot"
   ]
  },
  {
   "cell_type": "code",
   "execution_count": 12,
   "metadata": {},
   "outputs": [],
   "source": [
    "def best_split(rows, method):\n",
    "    \"\"\"\n",
    "    Find the question which can gain the most information gain in current node\n",
    "    \"\"\"\n",
    "    numofcol = len(rows.iloc[0,:])\n",
    "    best_gain = 0\n",
    "    best_ques = None\n",
    "    for col in range(1,numofcol):\n",
    "        question = Question(col)\n",
    "        currgain = Info_gain(rows, question, method)\n",
    "        if currgain > best_gain:\n",
    "            best_gain, best_ques = currgain, question\n",
    "    return best_gain, best_ques"
   ]
  },
  {
   "cell_type": "code",
   "execution_count": 13,
   "metadata": {},
   "outputs": [],
   "source": [
    "def build_tree(rows, depth, method):\n",
    "    \"\"\"\n",
    "    input:\n",
    "    rows: a dataframe\n",
    "    depth: maximum of number hierarchy\n",
    "    \n",
    "    \"\"\"\n",
    "    best_gain, best_ques = best_split(rows, method)\n",
    "    label = rows.iloc[:,0].value_counts().idxmax()\n",
    "    if best_gain == 0:\n",
    "        return Leaf(label)\n",
    "    if depth == 0:\n",
    "        return Leaf(label)\n",
    "    children =  partition(rows, best_ques)\n",
    "    List_branches = {}\n",
    "    for i in list(children):\n",
    "        List_branches[i] =  build_tree(children[i], depth - 1, method)\n",
    "    return Node(best_ques, List_branches, label)"
   ]
  },
  {
   "cell_type": "code",
   "execution_count": 14,
   "metadata": {},
   "outputs": [],
   "source": [
    "def classify(node,row):\n",
    "    \"\"\"\n",
    "    input:\n",
    "    node: \n",
    "    row: row of data\n",
    "    output:\n",
    "    classifier of row\n",
    "    \"\"\"\n",
    "    if isinstance(node, Leaf):\n",
    "        return node.label\n",
    "    val = row[node.question.column]\n",
    "    if val in list(node.list_branches):\n",
    "        newnode = node.list_branches[val]\n",
    "    else:\n",
    "        return node.label\n",
    "    return classify(newnode, row)"
   ]
  },
  {
   "cell_type": "code",
   "execution_count": 15,
   "metadata": {},
   "outputs": [],
   "source": [
    "def main_tree(X,y, depth_max, method):\n",
    "    X_train =  X.copy()\n",
    "    X_train.insert(loc=0, column='label', value = y)\n",
    "    tree = build_tree(X_train, depth_max, method)\n",
    "    return tree"
   ]
  },
  {
   "cell_type": "code",
   "execution_count": 16,
   "metadata": {},
   "outputs": [],
   "source": [
    "def fit(tree, x):\n",
    "    x_test = x.copy()\n",
    "    x_test.insert(loc = 0, column  = 'label', value = 0)\n",
    "    predicts = pd.Series(np.zeros(len(x_test)).astype('int'))\n",
    "    for i in range(len(x_test)):\n",
    "        predicts[i]=  classify(tree, x_test.iloc[i,:])\n",
    "    return predicts"
   ]
  },
  {
   "cell_type": "code",
   "execution_count": 17,
   "metadata": {},
   "outputs": [],
   "source": [
    "from graphviz import Digraph\n",
    "global list_att\n",
    "list_att = train.columns.values\n",
    "def print_branch(graph, node, node_name = 'T'):\n",
    "    \"\"\"\n",
    "    Visualize the current node\n",
    "    \"\"\"\n",
    "    for i in list(node.list_branches):\n",
    "        if isinstance(node.list_branches[i], Leaf):\n",
    "            current_name = node_name + 'L' + str(i)\n",
    "            graph.node(current_name,str(node.list_branches[i].label), shape = 'diamond')\n",
    "            graph.edge(node_name, current_name, label = str(i))\n",
    "#             print(current_name, node_name)\n",
    "        else:\n",
    "            current_name =  node_name + str(i)\n",
    "            graph.node(current_name, list_att[node.list_branches[i].question.column], shape = 'circle')\n",
    "            graph.edge(node_name, current_name, label = str(i))\n",
    "#             print(current_name, node_name)\n",
    "            print_branch(graph, node.list_branches[i], current_name)\n",
    "def print_tree(tree):\n",
    "    \"\"\"\n",
    "    Visualize the tree\n",
    "    \"\"\"\n",
    "    graph =  Digraph(comment = 'Decision Tree')\n",
    "    graph.attr(rankdir='LR', size='1.0')\n",
    "    graph.node('root', list_att[tree.question.column])\n",
    "    print_branch(graph, tree, 'root')\n",
    "    return graph"
   ]
  },
  {
   "cell_type": "code",
   "execution_count": 20,
   "metadata": {},
   "outputs": [],
   "source": [
    "# def prune(node):\n",
    "#     \"\"\"\n",
    "#     prune the tree\n",
    "#     \"\"\"\n",
    "#     current_label = node.label\n",
    "#     switch = 0\n",
    "#     for i in list(node.list_branches):\n",
    "#         if node.list_branches[i].label != current_label or isinstance(node.list_branches[i], Leaf) is False:\n",
    "#             switch = 1\n",
    "#             break\n",
    "#     if switch == 0:\n",
    "#         node.list_branches = {}\n",
    "#         return \n",
    "#     for i in list(node.list_branches):\n",
    "#             if isinstance(node.list_branches[i], Leaf):\n",
    "#                 continue\n",
    "#             else:    \n",
    "#                 prune(node.list_branches[i])\n",
    "# def refresh_tree(node, tree):\n",
    "#     \"\"\"\n",
    "#     refresh the tree after prune\n",
    "#     \"\"\"\n",
    "#     if isinstance(node, Leaf):\n",
    "#         return\n",
    "#     for i in list(node.list_branches):\n",
    "#         if isinstance(node.list_branches[i], Leaf):\n",
    "#             continue\n",
    "#         if len(node.list_branches[i].list_branches) == 0:\n",
    "#             node.list_branches[i] = Leaf(node.list_branches[i].label)\n",
    "#             prune(tree)\n",
    "#         else:\n",
    "#             refresh_tree(node.list_branches[i], tree)\n",
    "def prune(node):\n",
    "    current_label  = node.label\n",
    "    switch = 0\n",
    "    for i in list(node.list_branches):\n",
    "        if node.list_branches[i].label != current_label or isinstance(node.list_branches[i], Leaf) is False:\n",
    "            switch = 1\n",
    "            break\n",
    "    if switch == 0:\n",
    "        node.list_branches = {}\n",
    "        return\n",
    "    for i in list(node.list_branches):\n",
    "        if isinstance(node.list_branches[i], Leaf) is False:\n",
    "            if len(node.list_branches[i].list_branches) == 0:\n",
    "                node.list_branches[i] = Leaf(node.list_branches[i].label)\n",
    "    for i in list(node.list_branches):\n",
    "            if isinstance(node.list_branches[i], Leaf):\n",
    "                continue\n",
    "            else:    \n",
    "                prune(node.list_branches[i])"
   ]
  },
  {
   "cell_type": "code",
   "execution_count": 22,
   "metadata": {},
   "outputs": [
    {
     "data": {
      "text/plain": [
       "'Digraph.gv.pdf'"
      ]
     },
     "execution_count": 22,
     "metadata": {},
     "output_type": "execute_result"
    }
   ],
   "source": [
    "x_train = train.copy()\n",
    "y_train = x_train.pop('Survived')\n",
    "# create the tree with train dataset\n",
    "tree = main_tree(x_train, y_train, depth_max = 6, method = Entropy)\n",
    "# prune tree\n",
    "depth_max = 6\n",
    "for i in range(depth_max):\n",
    "    prune(tree)\n",
    "a= print_tree(tree)\n",
    "a.view()"
   ]
  },
  {
   "cell_type": "code",
   "execution_count": null,
   "metadata": {},
   "outputs": [],
   "source": [
    "# predictions\n",
    "predicts = fit(tree, test)\n",
    "predicts.value_counts()"
   ]
  },
  {
   "cell_type": "code",
   "execution_count": null,
   "metadata": {},
   "outputs": [],
   "source": [
    "# calculate accuracy\n",
    "(predicts == submission.Survived).sum()/len(predicts)"
   ]
  }
 ],
 "metadata": {
  "kernelspec": {
   "display_name": "Python 3",
   "language": "python",
   "name": "python3"
  },
  "language_info": {
   "codemirror_mode": {
    "name": "ipython",
    "version": 3
   },
   "file_extension": ".py",
   "mimetype": "text/x-python",
   "name": "python",
   "nbconvert_exporter": "python",
   "pygments_lexer": "ipython3",
   "version": "3.7.0"
  }
 },
 "nbformat": 4,
 "nbformat_minor": 2
}
